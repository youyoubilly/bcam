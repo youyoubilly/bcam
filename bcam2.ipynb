{
 "cells": [
  {
   "cell_type": "code",
   "execution_count": 1,
   "metadata": {},
   "outputs": [],
   "source": [
    "import traitlets\n",
    "import ipywidgets.widgets as widgets\n",
    "import numpy as np\n",
    "import cv2\n",
    "import matplotlib.pyplot as plt\n",
    "\n",
    "from bcam2 import BCamera"
   ]
  },
  {
   "cell_type": "code",
   "execution_count": 2,
   "metadata": {},
   "outputs": [],
   "source": [
    "def bgr8_to_jpeg(value):\n",
    "    return bytes(cv2.imencode('.jpg', value)[1])\n"
   ]
  },
  {
   "cell_type": "code",
   "execution_count": 4,
   "metadata": {},
   "outputs": [],
   "source": [
    "bcam1 = BCamera.builder() \\\n",
    "        .device(2) \\\n",
    "        .resolution(800, 600) \\\n",
    "        .fps(10) \\\n",
    "        .build()\n",
    "bcam2 = BCamera.builder() \\\n",
    "        .device(4) \\\n",
    "        .resolution(800, 600) \\\n",
    "        .fps(10) \\\n",
    "        .build()"
   ]
  },
  {
   "cell_type": "code",
   "execution_count": 5,
   "metadata": {
    "tags": []
   },
   "outputs": [
    {
     "data": {
      "application/vnd.jupyter.widget-view+json": {
       "model_id": "a78967e9087646d780bb77128aa7e2b8",
       "version_major": 2,
       "version_minor": 0
      },
      "text/plain": [
       "HBox(children=(Image(value=b'', format='jpeg', height='400', width='400'), Image(value=b'', format='jpeg', hei…"
      ]
     },
     "metadata": {},
     "output_type": "display_data"
    }
   ],
   "source": [
    "bcam1.start()\n",
    "bcam2.start()\n",
    "\n",
    "image_widget1 = widgets.Image(format='jpeg', width=400, height=400)\n",
    "image_widget2 = widgets.Image(format='jpeg', width=400, height=400)\n",
    "display(widgets.HBox([image_widget1, image_widget2]))\n",
    "camera_link = traitlets.dlink((bcam1, 'value'), (image_widget1, 'value'), transform=bgr8_to_jpeg)\n",
    "camera_link = traitlets.dlink((bcam2, 'value'), (image_widget2, 'value'), transform=bgr8_to_jpeg)"
   ]
  },
  {
   "cell_type": "code",
   "execution_count": 6,
   "metadata": {},
   "outputs": [],
   "source": [
    "bcam1.stop()\n",
    "bcam2.stop()"
   ]
  },
  {
   "cell_type": "code",
   "execution_count": null,
   "metadata": {},
   "outputs": [],
   "source": []
  }
 ],
 "metadata": {
  "kernelspec": {
   "display_name": "Python 3",
   "language": "python",
   "name": "python3"
  },
  "language_info": {
   "codemirror_mode": {
    "name": "ipython",
    "version": 3
   },
   "file_extension": ".py",
   "mimetype": "text/x-python",
   "name": "python",
   "nbconvert_exporter": "python",
   "pygments_lexer": "ipython3",
   "version": "3.7.3"
  }
 },
 "nbformat": 4,
 "nbformat_minor": 4
}
