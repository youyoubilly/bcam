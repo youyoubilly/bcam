{
 "cells": [
  {
   "cell_type": "code",
   "execution_count": null,
   "metadata": {},
   "outputs": [],
   "source": [
    "import traitlets\n",
    "import ipywidgets.widgets as widgets\n",
    "import numpy as np\n",
    "import cv2\n",
    "import matplotlib.pyplot as plt\n",
    "\n",
    "import bcam"
   ]
  },
  {
   "cell_type": "code",
   "execution_count": null,
   "metadata": {},
   "outputs": [],
   "source": [
    "def bgr8_to_jpeg(value):\n",
    "    return bytes(cv2.imencode('.jpg', value)[1])"
   ]
  },
  {
   "cell_type": "code",
   "execution_count": null,
   "metadata": {},
   "outputs": [],
   "source": [
    "bcam1 = bcam.config() \\\n",
    "        .device(2) \\\n",
    "        .resolution(800, 600) \\\n",
    "        .fps(10) \\\n",
    "        .auto_exposure(True) \\\n",
    "        .verbose(True) \\\n",
    "        .show_panel(True) \\\n",
    "        .build()\n",
    "bcam2 = bcam.config() \\\n",
    "        .device(4) \\\n",
    "        .resolution(800, 600) \\\n",
    "        .fps(10) \\\n",
    "        .auto_exposure(True) \\\n",
    "        .verbose(True) \\\n",
    "        .show_panel(True) \\\n",
    "        .build()"
   ]
  },
  {
   "cell_type": "code",
   "execution_count": null,
   "metadata": {
    "tags": []
   },
   "outputs": [],
   "source": [
    "bcam1.start()\n",
    "bcam2.start()\n",
    "\n",
    "image_widget1 = widgets.Image(format='jpeg', width=400, height=400)\n",
    "image_widget2 = widgets.Image(format='jpeg', width=400, height=400)\n",
    "\n",
    "display(widgets.HBox([image_widget1, image_widget2]))\n",
    "\n",
    "camera_link = traitlets.dlink((bcam1, 'value'), (image_widget1, 'value'), transform=bgr8_to_jpeg)\n",
    "camera_link = traitlets.dlink((bcam2, 'value'), (image_widget2, 'value'), transform=bgr8_to_jpeg)"
   ]
  },
  {
   "cell_type": "code",
   "execution_count": null,
   "metadata": {},
   "outputs": [],
   "source": [
    "bcam1.stop()\n",
    "bcam2.stop()"
   ]
  },
  {
   "cell_type": "code",
   "execution_count": null,
   "metadata": {},
   "outputs": [],
   "source": []
  }
 ],
 "metadata": {
  "kernelspec": {
   "display_name": "Python 3",
   "language": "python",
   "name": "python3"
  },
  "language_info": {
   "codemirror_mode": {
    "name": "ipython",
    "version": 3
   },
   "file_extension": ".py",
   "mimetype": "text/x-python",
   "name": "python",
   "nbconvert_exporter": "python",
   "pygments_lexer": "ipython3",
   "version": "3.6.9"
  }
 },
 "nbformat": 4,
 "nbformat_minor": 4
}
